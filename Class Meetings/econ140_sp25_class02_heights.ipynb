{
 "cells": [
  {
   "cell_type": "markdown",
   "metadata": {},
   "source": [
    "<img src=\"images/econ140R_logo.png\" width=\"200\" />"
   ]
  },
  {
   "cell_type": "markdown",
   "metadata": {},
   "source": [
    "<h1>ECON 140R Class 02_heights</h1>"
   ]
  },
  {
   "cell_type": "markdown",
   "metadata": {},
   "source": [
    "\n",
    "<h3>Learning objectives:</h3>\n",
    "\n",
    "<ol style=\"margin-top: 0; margin-bottom: 0;\">\n",
    "  <li>Standard errors in estimators like $\\bar{X}$ imply confidence intervals\n",
    "      <ul style=\"margin-top: 0; margin-bottom: 0;\">\n",
    "      <li>Two SE’s on either side of $\\bar{X}$ picks up 95% of the distribution of the true population mean $\\mu$\n",
    "      </li>\n",
    "    </ul>\n",
    "  </li>\n",
    "  <li>Confidence intervals imply hypothesis tests:\n",
    "    <ul style=\"margin-top: 0; margin-bottom: 0;\">\n",
    "      <li>Think about what we care about, and reformulate it as a test that something equals zero, a proper <a href=\"https://en.wikipedia.org/wiki/Null_hypothesis\">null hypothesis</a>\n",
    "      </li>\n",
    "      <li>Measure the average and the standard error (SE) of that something\n",
    "      </li>\n",
    "      <li>If the average is more than 2 SE’s away from zero, reject the null hypothesis that the something is zero, otherwise, fail to reject the null hypothesis\n",
    "      </li>\n",
    "    </ul>\n",
    "  </li>\n",
    "  <li>We can make Type-1 and Type-2 errors. Good statistical power reduces the change of Type-2 errors, false negatives that don’t detect\n",
    "  </li>\n",
    "</ol>"
   ]
  },
  {
   "cell_type": "markdown",
   "metadata": {},
   "source": [
    "To begin, please run the cells below to load up the libraries necessary to access data in Google Sheets. Best practices include running the cells in order."
   ]
  },
  {
   "cell_type": "code",
   "execution_count": null,
   "metadata": {
    "collapsed": false
   },
   "outputs": [],
   "source": [
    "install.packages(\"googlesheets4\")\n",
    "library(googlesheets4)\n",
    "gs4_deauth()\n",
    "\n",
    "# Also load up the \"car\" package, for Companion to Applied Regression\n",
    "install.packages(\"car\")\n",
    "library(car)"
   ]
  },
  {
   "cell_type": "markdown",
   "metadata": {},
   "source": [
    "The code below loads in data on gender and subjective and objective height for $n = 5,068$ respondents in wave 4 of the [National Longitudinal Study of Adolescent to Adult Health (Add Health)](https://addhealth.cpc.unc.edu/). Subjective or self-reported height in inches is measured by `r4height`, while objective height is `r4heightbio`.\n",
    "\n",
    "<b>To view the Sheets file, click here:</b> [addhealth_height_w4_nomiss.sheets](https://docs.google.com/spreadsheets/d/1uVN0_Wgz30nnng7Bt7H7xfYIqKL_g6W9ifLbF7wMK04/edit?usp=sharing)"
   ]
  },
  {
   "cell_type": "code",
   "execution_count": null,
   "metadata": {
    "collapsed": false
   },
   "outputs": [],
   "source": [
    "sheet_url = \"https://docs.google.com/spreadsheets/d/1uVN0_Wgz30nnng7Bt7H7xfYIqKL_g6W9ifLbF7wMK04/edit?usp=sharing\"\n",
    "\n",
    "ah_heights <- read_sheet(sheet_url,\n",
    "                         range = \"A1:F5069\")"
   ]
  },
  {
   "cell_type": "markdown",
   "metadata": {},
   "source": [
    "First let's quickly examine the top of the dataset, examine its dimensions, and assign $n$ to be the number of rows, which is the sample size."
   ]
  },
  {
   "cell_type": "code",
   "execution_count": null,
   "metadata": {
    "collapsed": true
   },
   "outputs": [],
   "source": [
    "head(ah_heights)\n",
    "dimensions = dim(ah_heights)\n",
    "n = dimensions[1]\n",
    "n"
   ]
  },
  {
   "cell_type": "markdown",
   "metadata": {},
   "source": [
    "As you can see, `diff` is already programmed as the difference between `r4height`, the subjective measure that is self-reported, and `r4heightbio`, the objective measure that is collected by the interviewer. If the difference were not already in the dataset, we could have created it this way:"
   ]
  },
  {
   "cell_type": "code",
   "execution_count": null,
   "metadata": {
    "collapsed": true
   },
   "outputs": [],
   "source": [
    "ah_heights$diff0 = ah_heights$r4height - ah_heights$r4heightbio\n",
    "head(ah_heights)"
   ]
  },
  {
   "cell_type": "markdown",
   "metadata": {},
   "source": [
    "---"
   ]
  },
  {
   "cell_type": "markdown",
   "metadata": {},
   "source": [
    "<h2>1. Examining by hand</h2>"
   ]
  },
  {
   "cell_type": "markdown",
   "metadata": {},
   "source": [
    "Suppose our null hypothesis is that there is no difference between self-reported and objective height, and thus the difference between them is zero. `diff = 0`. Here is the sample average of the difference:"
   ]
  },
  {
   "cell_type": "code",
   "execution_count": null,
   "metadata": {
    "collapsed": true
   },
   "outputs": [],
   "source": [
    "mean_diff = mean(ah_heights$diff)\n",
    "mean_diff\n",
    "\n",
    "mean_diff = mean(ah_heights$r4height) - mean(ah_heights$r4heightbio)\n",
    "mean_diff"
   ]
  },
  {
   "cell_type": "markdown",
   "metadata": {},
   "source": [
    "In the code above, we also see that the average difference also equals the difference in the averages, up to floating point rounding error anyway! This is generally true about the sample average and the expectation: they are distributive across addition and subtraction."
   ]
  },
  {
   "cell_type": "markdown",
   "metadata": {},
   "source": [
    "In words, our results show that the average difference between self-reported height and objective height in these data is 0.42 inch. On average, people overstate how tall they are by four tenths of an inch. \n",
    "\n",
    "$$\n",
    "\\bar{Y} = \\bar{X}^S - \\bar{X}^O = 0.42\n",
    "$$\n",
    "\n",
    "If the Add Health sample was constructed using random sampling, we know the sample average is an unbiased measure of the true population mean. But how certain are we about the point estimate of 0.42 inch? Is it significantly different from zero? To proceed, construct the <b>standard error</b> of the sample mean."
   ]
  },
  {
   "cell_type": "markdown",
   "metadata": {},
   "source": [
    "The standard error of the mean of $Y$ equals the sample standard deviation of $Y$ divided by the square root of the sample size, $n$:\n",
    "\n",
    "$$\n",
    "SE \\left[ \n",
    "\\bar{Y}\n",
    "\\right]\n",
    "=\n",
    "\\frac{s}{\\sqrt{n}}\n",
    "$$\n",
    "where\n",
    "$$\n",
    "s = \\sqrt{\n",
    "\\frac{1}{n-1} \\sum_{i=1}^n \\left(\n",
    "Y_i - \\bar{Y}\n",
    "\\right)^2\n",
    "}\n",
    "$$"
   ]
  },
  {
   "cell_type": "code",
   "execution_count": null,
   "metadata": {
    "collapsed": true
   },
   "outputs": [],
   "source": [
    "stderr_meandiff = sd(ah_heights$diff) / sqrt(n)\n",
    "stderr_meandiff\n",
    "\n",
    "stderr_meandiff = ( sum( (ah_heights$diff - mean_diff)^2 ) / (n-1) )^0.5 / sqrt(n)\n",
    "stderr_meandiff"
   ]
  },
  {
   "cell_type": "markdown",
   "metadata": {},
   "source": [
    "The first calculation method above uses `sd()`, the sample standard deviation routine. The second method writes out the sample standard deviation by hand, just to keep us honest. The two methods produce the same result for the $SE$. "
   ]
  },
  {
   "cell_type": "markdown",
   "metadata": {},
   "source": [
    "Finally, a 95% confidence interval around the mean, $\\bar{X}$, is defined by roughly $\\pm 2 \\ SE$. Statistical programs will often use $\\pm 1.96 \\ SE$ in large enough samples, because $1.96$ is a critical value of [Student's $t$ distribution](https://en.wikipedia.org/wiki/Student%27s_t-distribution)."
   ]
  },
  {
   "cell_type": "code",
   "execution_count": null,
   "metadata": {
    "collapsed": true
   },
   "outputs": [],
   "source": [
    "mean_diff_conf = c(mean_diff - 2*stderr_meandiff, \n",
    "                   mean_diff + 2*stderr_meandiff)\n",
    "mean_diff_conf"
   ]
  },
  {
   "cell_type": "markdown",
   "metadata": {},
   "source": [
    "In words: the sample average of the difference between self-reported and objective height is 0.42 inches. This difference is statistically significantly different from zero at the 5% level, because zero lies outside of the 95% confidence interval defined by two standard errors on either side of the mean. The 95% confidence interval stretches roughly from 0.38 to 0.47."
   ]
  },
  {
   "cell_type": "markdown",
   "metadata": {},
   "source": [
    "<h2>2. Using ordinary least squares (OLS), the \"big ladder\"</h2>"
   ]
  },
  {
   "cell_type": "markdown",
   "metadata": {},
   "source": [
    "While it's useful to see the long-form math at least once in your life, most of the time you will probably want to cut to the chase and get on with the social science! It turns out that estimating simple equations with OLS, which you can do using the built-in `lm()` routine (for \"linear model\") in __R__, will return the answers to simple questions.\n",
    "\n",
    "Let's estimate this simple model:\n",
    "$$\n",
    "Y_i = \\alpha + \\epsilon_i\n",
    "$$\n",
    "where $Y_i$ is the difference between subjective and objective heights, $\\alpha$ is a constant term whose estimate will end up being the sample average $\\bar{Y}$, and $\\epsilon_i$ is a white-noise error with mean zero. \n",
    "\n",
    "To get __R__ to estimate this function, we have to pass it a vector of 1's as the lone $x$-variable, and then __R__ will understand what we want. The syntax for `lm()` requires the first element to be the linear estimation equation, with a tilde where the equals sign would go, followed by options like a reference to the data frame storing the variables in columns.\n",
    "\n",
    "A reasonable approach is to create an object like `reg1` and then pass it to `summary()` to examine results. A call to `confint()` produces a matrix with 95% confidence intervals around the `lm()` estimates."
   ]
  },
  {
   "cell_type": "code",
   "execution_count": null,
   "metadata": {
    "collapsed": true
   },
   "outputs": [],
   "source": [
    "reg1 <- lm(diff ~ 1, data = ah_heights)\n",
    "summary(reg1)\n",
    "confint(reg1)"
   ]
  },
  {
   "cell_type": "markdown",
   "metadata": {},
   "source": [
    "As you can see above, OLS returns an estimate of the constant term $\\alpha$, called \"(Intercept)\", and its standard error. These are the same values we saw when calculating the sample average and its standard error by hand."
   ]
  },
  {
   "cell_type": "markdown",
   "metadata": {},
   "source": [
    "---"
   ]
  },
  {
   "cell_type": "markdown",
   "metadata": {},
   "source": [
    "<h2>3. Do men and women respond differently?</h2>"
   ]
  },
  {
   "cell_type": "markdown",
   "metadata": {},
   "source": [
    "Ordinary least squares also allows us to examine differences in $y$-variables across subgroups very quickly. Based on the [Data Collection Instrument and User Guide](https://adatawinter.site.wesleyan.edu/files/2017/08/AddHealth-Wave_1_Questionnaire-and-Codebook.pdf), I think Add Health probably began with \"biological sex\" as recorded for the person by the school, which likely drew from a parental report, and then asked interviewers to verify the measure by asking the respondent as subjectively needed. To what extent the variable measures gender versus sex seems like an open question. It appears that [NIH funded a companion study in 2017](https://addhealth.cpc.unc.edu/news/add-health-deputy-director-to-co-lead-new-nih-study/) to look at gender identity over the life course more closely."
   ]
  },
  {
   "cell_type": "markdown",
   "metadata": {},
   "source": [
    "The variable that we have indexes males as `r4sex == 1` and females as `r4sex == 2`. One actually could just use this variable in a linear model, but that would change the interpretation of the constant term $\\alpha$. A better approach is to code a binary 0/1 indicator variable that measures group identity. Here, we can do that quickly by subtracting 1 from the \"sex\" variable:"
   ]
  },
  {
   "cell_type": "code",
   "execution_count": null,
   "metadata": {
    "collapsed": true
   },
   "outputs": [],
   "source": [
    "ah_heights$female = (ah_heights$r4sex - 1)"
   ]
  },
  {
   "cell_type": "markdown",
   "metadata": {},
   "source": [
    "With this new `female` variable, we can run a simple OLS model that tests for differences between females and the reference group:\n",
    "\n",
    "$$\n",
    "Y_i = \\alpha' + \\beta \\ female_i + \\epsilon_i\n",
    "$$\n",
    "\n",
    "In these Add Health data, although one suspects that there probably is a spectrum of gender identity, the data are coded so that everyone who is not \"female\" is \"male,\" and so the constant term $\\alpha'$ tells us the average of $y$ among males. Generally speaking, the constant will measure the average among all groups that do not have an indicator variable of their own."
   ]
  },
  {
   "cell_type": "code",
   "execution_count": null,
   "metadata": {
    "collapsed": true
   },
   "outputs": [],
   "source": [
    "reg2 <- lm(diff ~ female, data = ah_heights)\n",
    "summary(reg2)\n",
    "confint(reg2)"
   ]
  },
  {
   "cell_type": "markdown",
   "metadata": {},
   "source": [
    "In words: males report being taller by about $\\hat{\\alpha}' = 0.7$ inch on average, and reported heights are $\\hat{\\beta} = -0.5$ inch more accurate on average among females. Both of those estimates are statistically significantly different from zero, because they lie (much) more than 2 of their standard errors away from 0."
   ]
  },
  {
   "cell_type": "markdown",
   "metadata": {},
   "source": [
    "<h2>4. Aligning the model with your question</h2>"
   ]
  },
  {
   "cell_type": "markdown",
   "metadata": {},
   "source": [
    "In the example above, I found myself wanting to say something about the statistical significance of \"excess\" height reported by females. We recovered $\\hat{\\alpha}'$ and its standard error, which tells us about the average male response. But $\\hat{\\beta}$ tells us the average difference between men and women, not the average female response.\n",
    "\n",
    "If we want to know about the average female response, we have some options:"
   ]
  },
  {
   "cell_type": "markdown",
   "metadata": {},
   "source": [
    "<h3>4.1. Ask R to calculate the standard error of $\\hat{\\alpha}' + \\beta$</h3>"
   ]
  },
  {
   "cell_type": "markdown",
   "metadata": {},
   "source": [
    "The first line of code below calculates the sum of the two parameters from the `coef` column in the regression results that `lm()` created and placed in `reg2`. The second line of code asks __R__ to test whether that sum equals zero, and to do so, __R__ calculates the standard error of the sum (but doesn't report it). "
   ]
  },
  {
   "cell_type": "code",
   "execution_count": null,
   "metadata": {
    "collapsed": true
   },
   "outputs": [],
   "source": [
    "alpha_plus_beta <- reg2$coef[1] + reg2$coef[2]\n",
    "alpha_plus_beta\n",
    "\n",
    "linearHypothesis(reg2, \"(Intercept) + female = 0\")"
   ]
  },
  {
   "cell_type": "markdown",
   "metadata": {},
   "source": [
    "The results aren't exactly easy to read. The key parts are the __F__ and the __Pr(>F)__ columns. An $F$-statistic is kind of like a generalized $t$-statistic with units similar to the square of the $t$-statistic. Here, the $F$-stat is large, and thus the probability that the true value of $\\alpha' + \\beta = 0$ is very small. Thus we reject the null hypothesis that female self-reports of height are no different from objective height. Rather, they are about $\\hat{\\alpha}' + \\hat{\\beta} = 0.2$ inch taller, and that is statistically significantly different from zero."
   ]
  },
  {
   "cell_type": "markdown",
   "metadata": {},
   "source": [
    "---"
   ]
  },
  {
   "cell_type": "markdown",
   "metadata": {},
   "source": [
    "<h3>4.2. Run the simple model on just one group</h3>"
   ]
  },
  {
   "cell_type": "markdown",
   "metadata": {},
   "source": [
    "Another approach is to omit males from the data and estimate the simple model with no group indicator:\n",
    "\n",
    "$$\n",
    "Y^f_i = \\alpha^f + \\epsilon^f_i\n",
    "$$\n",
    "\n",
    "where I'm using the $f$ superscript to show that these estimates will be relevant only for the female subgroup. In __R__, we can estimate this model by passing a `subset()` of the dataframe with the `female == 1` conditional. "
   ]
  },
  {
   "cell_type": "code",
   "execution_count": null,
   "metadata": {
    "collapsed": true
   },
   "outputs": [],
   "source": [
    "reg3f <- lm(diff ~ 1, \n",
    "            data = subset(ah_heights, female == 1)\n",
    "            )\n",
    "summary(reg3f)\n",
    "confint(reg3f)"
   ]
  },
  {
   "cell_type": "markdown",
   "metadata": {},
   "source": [
    "In words, we see the same story we just saw earlier: women state they are about $\\hat{\\alpha}^f = 0.2$ inch taller than they actually are, and that is statistically significantly different from 0 because it is about 7 times as large as its standard error."
   ]
  },
  {
   "cell_type": "markdown",
   "metadata": {},
   "source": [
    "For kicks, here is a way to recover the estimate for just males, using similar code:"
   ]
  },
  {
   "cell_type": "code",
   "execution_count": null,
   "metadata": {
    "collapsed": true
   },
   "outputs": [],
   "source": [
    "reg3m <- lm(diff ~ 1, \n",
    "            data = subset(ah_heights, female == 0)\n",
    "            )\n",
    "summary(reg3m)\n",
    "confint(reg3m)"
   ]
  },
  {
   "cell_type": "markdown",
   "metadata": {},
   "source": [
    "<h3>4.3. Or redefine the group indicator</h3>"
   ]
  },
  {
   "cell_type": "markdown",
   "metadata": {},
   "source": [
    "One could also define an indicator variable `male` and run OLS using that instead of `female`. Here is one way to set that up, with the absolute value function `abs()`:"
   ]
  },
  {
   "cell_type": "code",
   "execution_count": null,
   "metadata": {
    "collapsed": true
   },
   "outputs": [],
   "source": [
    "ah_heights$male = abs(ah_heights$female - 1)\n",
    "head(ah_heights)"
   ]
  },
  {
   "cell_type": "code",
   "execution_count": null,
   "metadata": {
    "collapsed": true
   },
   "outputs": [],
   "source": [
    "reg4 <- lm(diff ~ male, data = ah_heights)\n",
    "summary(reg4)\n",
    "confint(reg4)"
   ]
  },
  {
   "cell_type": "markdown",
   "metadata": {},
   "source": [
    "Voila: mirror-image results.\n",
    "\n",
    "And just for more kicks, note what happens when we try to include BOTH `female` and `male` in a linear model. If there were observations that did not have either `female == 1` or `male == 1` in the data, this would not be a problem, and the constant term would show the average $y$-variable for that other group that was neither male nor female. But here, the constant term is not well defined if we have already included indicators for all gender groups in the data.\n",
    "\n",
    "To solve this problem, __R__ appears to drop the last indicator listed."
   ]
  },
  {
   "cell_type": "code",
   "execution_count": null,
   "metadata": {
    "collapsed": true
   },
   "outputs": [],
   "source": [
    "reg5 <- lm(diff ~ male + female, data = ah_heights)\n",
    "summary(reg5)\n",
    "confint(reg5)"
   ]
  },
  {
   "cell_type": "markdown",
   "metadata": {},
   "source": [
    "An option (literally) is to ask `lm()` to suppress the constant term, like this:"
   ]
  },
  {
   "cell_type": "code",
   "execution_count": null,
   "metadata": {
    "collapsed": true
   },
   "outputs": [],
   "source": [
    "reg6 <- lm(diff ~ 0 + male + female, data = ah_heights)\n",
    "summary(reg6)\n",
    "confint(reg6)"
   ]
  },
  {
   "cell_type": "markdown",
   "metadata": {},
   "source": [
    "As you can see, this model gives us part of what we want, but perhaps not all. For example, if we wanted to state something about the difference between men and women here, we would need to use `linearHypothesis()` again.\n",
    "\n",
    "There will likely be something you want to understand that will require a little more work, regardless of how you set up the first model. C'est la statistiques."
   ]
  },
  {
   "cell_type": "markdown",
   "metadata": {},
   "source": [
    "<div style=\"text-align: right\"> <span style=\"font-family:Papyrus; \">And they lived happily ever after. The End.</span></div>"
   ]
  },
  {
   "cell_type": "markdown",
   "metadata": {},
   "source": []
  }
 ],
 "metadata": {
  "kernelspec": {
   "display_name": "R",
   "language": "R",
   "name": "ir"
  },
  "language_info": {
   "codemirror_mode": "r",
   "file_extension": ".r",
   "mimetype": "text/x-r-source",
   "name": "R",
   "pygments_lexer": "r",
   "version": "4.2.1"
  }
 },
 "nbformat": 4,
 "nbformat_minor": 5
}
