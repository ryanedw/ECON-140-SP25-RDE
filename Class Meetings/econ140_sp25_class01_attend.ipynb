{
 "cells": [
  {
   "cell_type": "markdown",
   "id": "12ea3dd9",
   "metadata": {},
   "source": [
    "<img src=\"images/econ140R_logo.png\" width=\"200\" />"
   ]
  },
  {
   "cell_type": "markdown",
   "id": "257aeb52",
   "metadata": {},
   "source": [
    "<h1>ECON 140R Class 01_attend</h1>"
   ]
  },
  {
   "cell_type": "markdown",
   "id": "3442d93c-ffd1-4ff8-beb6-afa071c2f303",
   "metadata": {},
   "source": [
    "Let us examine scores in the Fall 2023 version of ECON 140. To proceed, we will load up `tidyverse` because it is often useful, and `haven` because it helps us read datasets in Stata format."
   ]
  },
  {
   "cell_type": "code",
   "execution_count": null,
   "id": "c807fd3a",
   "metadata": {},
   "outputs": [],
   "source": [
    "library(tidyverse)\n",
    "library(haven)"
   ]
  },
  {
   "cell_type": "markdown",
   "id": "1dc252e8-ea6b-4a55-b3e9-b8c9c4740d55",
   "metadata": {},
   "source": [
    "The `haven` command `read_dta()` pulls in a data frame from a Stata .dta file, and the __R__ command `head()` offers a look at the top of the data frame:"
   ]
  },
  {
   "cell_type": "code",
   "execution_count": null,
   "id": "697ad8bc",
   "metadata": {},
   "outputs": [],
   "source": [
    "econ140_f23 <- read_dta(\"data/econ140_f23_attendance_blinded.dta\")"
   ]
  },
  {
   "cell_type": "code",
   "execution_count": null,
   "id": "78f5325a",
   "metadata": {},
   "outputs": [],
   "source": [
    "head(econ140_f23, n = 5)"
   ]
  },
  {
   "cell_type": "markdown",
   "id": "8fbdb0df-94b3-48e4-9f0c-f11950d59b9e",
   "metadata": {},
   "source": [
    "Here are the variables in the dataset:\n",
    "* `attend` self-reported frequency of in-person attendance in the first half of the course\n",
    "    * 1 = \"attended in person most or all of the time\"\n",
    "    * 2 = \"a majority of the time\"\n",
    "    * 3 = \"about half the time\"\n",
    "    * 4 = \"some of the time\"\n",
    "    * 5 = \"rarely or never\"\n",
    "* `project` the score on the project in percent\n",
    "* `imidterm` the score on the in-class midterm exam in percent\n",
    "* `omidterm` the score on the online 2nd midterm exam in percent\n",
    "* `final` the score on the final exam in percent\n",
    "* `total` total weighted points earned in percent\n",
    "* `plagquiz` the score on the plagiarism+ quiz in percent\n",
    "* `pollev` the score on Poll Everywhere participation in percent\n",
    "* `psets` the score on the problem sets in percent"
   ]
  },
  {
   "cell_type": "markdown",
   "id": "2b4a4581-1f3d-4277-b01e-38fe69be4389",
   "metadata": {},
   "source": [
    "First up, let's look at a histogram of the total weighted points. Here is some simple code that does that:"
   ]
  },
  {
   "cell_type": "code",
   "execution_count": null,
   "id": "571ec6fe-7687-4f81-99cd-c7e94061326c",
   "metadata": {},
   "outputs": [],
   "source": [
    "hist(econ140_f23$total, \n",
    "     breaks = c(0:100),\n",
    "     xlim = c(40,100),\n",
    "     main = \"ECON 140 F23 Total Score\",\n",
    "     xlab = \"ECON 140 F23 Total Score in percent\"\n",
    "     )"
   ]
  },
  {
   "cell_type": "markdown",
   "id": "ac334679-8c03-4559-944b-c94f603cb030",
   "metadata": {},
   "source": [
    "<h2>The elephant (not?) in the room: In-person attendance</h2>\n",
    "\n",
    "A natural question we'd ideally like to ask is how in-person attendance causally affects students' outcomes. In the second midterm conducted online in Fall 2023, I asked ECON 140 students to self-report their frequency of in-person attendance in the first half of the course. Students received a point for any answer, and they could also refuse to answer and still receive a point. A small number of students refused to answer.\n",
    "\n",
    "There are several minor limitations associated with the way the data was collected. Did students recall correctly enough? Were they likely to report truthfully?\n",
    "\n",
    "But by far the bigger issue here is that <b>students were choosing how much to attend in-person</b>. Synchronous attendance was part of the grade, but in-person attendance was not compulsory, nor was it rewarded with extra credit."
   ]
  },
  {
   "cell_type": "markdown",
   "id": "9e715bf3-dccb-46cb-8e57-c875598e9253",
   "metadata": {},
   "source": [
    "In ECON 140, it will be useful to think separately about a <b>causal effect</b> of a treatment variable of interest, $X$, on an outcome variable of interest, $Y$, and a <b>selection effect</b>.  \n",
    "\n",
    "The <b>causal effect</b> of $X$ on $Y$ is relevant for policy; it is what we would see happen to $Y$ if a policy applied the treatment of $X$ to people and they complied.  Think of a vaccination against a disease as $X$ and health or mortality as the outcome $Y$. (Note that $X$ could have no effect or even be bad for $Y$! This is why we have the Food and Drug Administration.) \n",
    "\n",
    "The <b>selection effect</b> of $X$ on $Y$ derives from other variables that are present and shifting both $X$ and thus $Y$ but which are <i>omitted</i>, causing bias. Think of a third variable like political affiliation, $Z$, which may affect the uptake of a vaccination $X$ and might also independently affect $Y$."
   ]
  },
  {
   "cell_type": "markdown",
   "id": "9ad47fe4-c22a-4fdf-addf-33d3208aca0d",
   "metadata": {},
   "source": [
    "Here, when $X$ is in-person attendance and $Y$ is the total score, what are our priors about causal effects? Does the quality of the lecture hall matter? What about class size? Quality of campus wifi?"
   ]
  },
  {
   "cell_type": "markdown",
   "id": "7d67abef-7ae9-4e67-b439-7d4eedb27b7f",
   "metadata": {},
   "source": []
  },
  {
   "cell_type": "markdown",
   "id": "6e9f23c6-a4d1-4073-ad00-e0658aee7249",
   "metadata": {},
   "source": [
    "What are our priors about selection effects? What other variables prompt students not to attend? (You could think of variables that prompt them to attend also, but I find the other question easier to answer.)"
   ]
  },
  {
   "cell_type": "markdown",
   "id": "c402338f-029c-4f80-9789-6fa5156e3bf4",
   "metadata": {},
   "source": []
  },
  {
   "cell_type": "markdown",
   "id": "abaa898e-e124-4ee0-8a5c-118fd4852dc1",
   "metadata": {},
   "source": [
    "<hr>"
   ]
  },
  {
   "cell_type": "markdown",
   "id": "11434765-61b6-45c0-b2ed-8bac7a750931",
   "metadata": {},
   "source": [
    "To begin, let's look at attendance self reports. The code below looks at broad tabulations in raw counts, then prints the total count of students, and then the shares:"
   ]
  },
  {
   "cell_type": "code",
   "execution_count": null,
   "id": "ac4f70fb-4742-4bd3-a73b-1e377232d7a4",
   "metadata": {},
   "outputs": [],
   "source": [
    "attend_freq <- table(econ140_f23$attend)\n",
    "attend_freq"
   ]
  },
  {
   "cell_type": "code",
   "execution_count": null,
   "id": "2c02ca5e-f626-4f28-a32f-874ac1fc9935",
   "metadata": {},
   "outputs": [],
   "source": [
    "sum(attend_freq)"
   ]
  },
  {
   "cell_type": "code",
   "execution_count": null,
   "id": "37323bec-d28e-47fd-9bde-74c33eaa3148",
   "metadata": {},
   "outputs": [],
   "source": [
    "attend_freq/sum(attend_freq)"
   ]
  },
  {
   "cell_type": "markdown",
   "id": "e5d1ca16-bcf7-4fa8-bebf-7b9a66f185d7",
   "metadata": {},
   "source": [
    "<hr>"
   ]
  },
  {
   "cell_type": "markdown",
   "id": "af73b59d-7fb7-4777-9cc9-90f202b464e9",
   "metadata": {},
   "source": [
    "Now let's look at total scores. Here is the unconditional mean across all students:"
   ]
  },
  {
   "cell_type": "code",
   "execution_count": null,
   "id": "e0262d91-0580-4a2c-a82d-e571a4edb8a7",
   "metadata": {},
   "outputs": [],
   "source": [
    "mean(econ140_f23$total) "
   ]
  },
  {
   "cell_type": "markdown",
   "id": "9846614c-dc4c-4f8b-8cf5-6db1f29215ef",
   "metadata": {},
   "source": [
    "And here is one way to look at the mean conditional on a value for `attend`, using `subset()`."
   ]
  },
  {
   "cell_type": "code",
   "execution_count": null,
   "id": "b00dbd3d-ed85-46d7-bf7c-4d9d6ba5b6ae",
   "metadata": {},
   "outputs": [],
   "source": [
    "mean(subset(econ140_f23, attend == 1)$total)"
   ]
  },
  {
   "cell_type": "code",
   "execution_count": null,
   "id": "14ac7b8e-f685-43e5-8a45-6b671fb127dd",
   "metadata": {},
   "outputs": [],
   "source": [
    "mean(subset(econ140_f23, attend == 2)$total)"
   ]
  },
  {
   "cell_type": "code",
   "execution_count": null,
   "id": "60a481b9-3f12-4c7c-a9e5-e61885829d83",
   "metadata": {},
   "outputs": [],
   "source": [
    "mean(subset(econ140_f23, attend == 3)$total)"
   ]
  },
  {
   "cell_type": "code",
   "execution_count": null,
   "id": "e0a8d82a-6cea-4c4a-9ada-c81f400d4687",
   "metadata": {},
   "outputs": [],
   "source": [
    "mean(subset(econ140_f23, attend == 4)$total)"
   ]
  },
  {
   "cell_type": "code",
   "execution_count": null,
   "id": "80cb5972-3d1b-4e4f-af97-4f2f1e9d5314",
   "metadata": {},
   "outputs": [],
   "source": [
    "mean(subset(econ140_f23, attend == 5)$total)"
   ]
  },
  {
   "cell_type": "markdown",
   "id": "1cfd6861-fbfc-47b4-9810-e6d712a2da5c",
   "metadata": {},
   "source": [
    "The plot thickens!\n",
    "\n",
    "We see some non-monotonicities here: As `attend` rises across the 5 responses indicating increasingly less in-person attendance, we see a small drop, then an increase, then another small drop, then zero effect."
   ]
  },
  {
   "cell_type": "markdown",
   "id": "a7380256-3b58-4455-820c-1f7537bb5c4d",
   "metadata": {},
   "source": [
    "There are many ways to proceed. One really valuable view is to use <b>ordinary least squares</b>. We will estimate this model:\n",
    "\n",
    "$$\n",
    "total_i = \\alpha + \\beta \\ attend_i + \\epsilon_i\n",
    "$$\n",
    "\n",
    "where $\\alpha$ is a hypothetical total score when $attend = 0$, which never actually happens in these data; $\\epsilon$ is a white-noise error term; and $\\beta$ is a composite of any causal effects plus any selection effects of $attend$ on $total$.\n",
    "\n",
    "It helps if we can visualize what we are doing, but sometimes visualizations are rough."
   ]
  },
  {
   "cell_type": "code",
   "execution_count": null,
   "id": "bbbc26f2-2557-4c14-8bdb-34ed52b26d26",
   "metadata": {},
   "outputs": [],
   "source": [
    "plot(econ140_f23$attend, econ140_f23$total)"
   ]
  },
  {
   "cell_type": "markdown",
   "id": "44e61ec3-f502-4f63-a7ba-2f03a98666e3",
   "metadata": {},
   "source": [
    "Ugh. Sort of a \"The Matrix\" movie poster except much sparser.\n",
    "\n",
    "In social science, it is common for outcome and treatment variables to be lumpy and discrete rather than continuous. In cases like these, scatterplots might just create more confusion rather than help us visualize relationships. \n",
    "\n",
    "But it turns out that __R__ has a built-in function `jitter()`, [documented here](https://search.r-project.org/R/refmans/base/html/jitter.html) which can inject randomness into observations. Below is some code that does it, with the `amount` parameter set to 1. It's good form to `set.seed()` to something, perhaps today's date, so that you can reproduce what you see."
   ]
  },
  {
   "cell_type": "code",
   "execution_count": null,
   "id": "90cac778-0b7d-49d7-8a0d-85608e6bc4a5",
   "metadata": {},
   "outputs": [],
   "source": [
    "set.seed(20240829)\n",
    "\n",
    "plot(jitter(econ140_f23$attend, amount = 1), \n",
    "     jitter(econ140_f23$total, amount = 1))"
   ]
  },
  {
   "cell_type": "markdown",
   "id": "6689dc43-0d6d-44ba-8649-a876781dfee1",
   "metadata": {},
   "source": [
    "Still not exactly clear, but at least it's less offensive to the eye.\n",
    "\n",
    "Here is the tool that estimates <b>ordinary least squares</b> for us: `lm()` in __R__, which stands for \"linear models.\""
   ]
  },
  {
   "cell_type": "code",
   "execution_count": null,
   "id": "aff4b44a-8b15-47e4-a981-9523c37bcf4f",
   "metadata": {},
   "outputs": [],
   "source": [
    "reg1 <- lm(total ~ attend, \n",
    "           data = econ140_f23)\n",
    "summary(reg1)"
   ]
  },
  {
   "cell_type": "markdown",
   "id": "68312fab-6960-407a-bb19-0eb87a247dbc",
   "metadata": {},
   "source": [
    "Each unit step of increasingly less frequent in-person attendance here is associated with an increase in the total score of 0.6704 point, and the <b>standard error</b> of that coefficient estimate $\\hat{\\beta}$ is 0.2467. Its $t$-stat is 2.717, and that is larger than the critical value of about 2, meaning that the coefficient estimate is more than 2 of its standard errors different from zero. \n",
    "\n",
    "<b>We reject the null hypothesis that there is no effect of attendance on the total ECON 140 score.</b> The coefficient is positive, and because an increase in `attend` means a reduction in attendance frequency, we conclude that in ECON 140 in Fall 2023, <i>less attendance was associated with higher total scores, and that effect was statistically significantly different from zero.</i> "
   ]
  },
  {
   "cell_type": "markdown",
   "id": "62f0074c-e83a-4539-af92-06723ba79df2",
   "metadata": {},
   "source": [
    "Are you shocked?"
   ]
  },
  {
   "cell_type": "markdown",
   "id": "7b82867b-c10b-4e64-b668-923e41854515",
   "metadata": {},
   "source": []
  },
  {
   "cell_type": "markdown",
   "id": "6f769bbd-8a04-42d0-9511-1e895ee8e169",
   "metadata": {},
   "source": [
    "<hr>"
   ]
  },
  {
   "cell_type": "markdown",
   "id": "fb71f4fa-7e07-4875-8e85-080984171ef4",
   "metadata": {},
   "source": [
    "Once we have estimated the model, we can extract the prediction of the outcome variable, usually denoted as $\\hat{Y}$. The extra code below is necessary when there were missing values in the data frame."
   ]
  },
  {
   "cell_type": "code",
   "execution_count": null,
   "id": "a03e8022-c55d-4857-a32a-774748098af2",
   "metadata": {},
   "outputs": [],
   "source": [
    "econ140_f23$total_hat <- predict(reg1, newdata = econ140_f23)"
   ]
  },
  {
   "cell_type": "markdown",
   "id": "94756b69-3df9-4ce4-800b-24ec6aeca9c5",
   "metadata": {},
   "source": [
    "And now here is the picture with the least-squares trendline overlaid in blue:"
   ]
  },
  {
   "cell_type": "code",
   "execution_count": null,
   "id": "5ecb1ad7-3732-42fa-8f49-85af042def13",
   "metadata": {},
   "outputs": [],
   "source": [
    "plot(jitter(econ140_f23$attend, amount = 1), \n",
    "     jitter(econ140_f23$total, amount = 1))\n",
    "lines(econ140_f23$attend,\n",
    "      econ140_f23$total_hat,\n",
    "      col = \"blue\")"
   ]
  },
  {
   "cell_type": "markdown",
   "id": "d2767cda",
   "metadata": {},
   "source": [
    "Not exactly convincing, is it? It sort of looks like Dad's mouth after eating blueberries, and he's mildly ... amused, maybe? "
   ]
  },
  {
   "cell_type": "markdown",
   "id": "8a2fe6ab-ee91-495c-8b9c-acb55e4c4652",
   "metadata": {},
   "source": [
    "Thoughts?"
   ]
  },
  {
   "cell_type": "markdown",
   "id": "118c5902",
   "metadata": {},
   "source": []
  },
  {
   "cell_type": "markdown",
   "id": "14125b39-fc9b-4fcc-978c-c835d3e35f58",
   "metadata": {},
   "source": [
    "My takeaways from this are:\n",
    "* Applied microeconomics can produce pretty unimpressive graphics!\n",
    "* This might be why economists love regression tables more. In the regression, the statistics are showing us something that the eye can't see in the picture\n",
    "* There probably is <b>selection</b> and <b>causality</b> in the association between in-person attendance and academic outcomes\n",
    "* Many observational studies will show similar results\n",
    "* Much of the magic of econometrics is <i>explaining what you see using these perspectives</i> and thinking about how you could better see what you want to"
   ]
  },
  {
   "cell_type": "markdown",
   "id": "f6ec44e2",
   "metadata": {},
   "source": [
    "<div style=\"text-align: right\"> <span style=\"font-family:Papyrus; \">And they lived happily ever after. The End.</span></div>"
   ]
  }
 ],
 "metadata": {
  "kernelspec": {
   "display_name": "R",
   "language": "R",
   "name": "ir"
  },
  "language_info": {
   "codemirror_mode": "r",
   "file_extension": ".r",
   "mimetype": "text/x-r-source",
   "name": "R",
   "pygments_lexer": "r",
   "version": "4.4.1"
  }
 },
 "nbformat": 4,
 "nbformat_minor": 5
}
